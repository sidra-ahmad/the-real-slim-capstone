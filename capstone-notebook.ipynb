{
 "cells": [
  {
   "cell_type": "markdown",
   "metadata": {},
   "source": [
    "## STATUS UPDATES"
   ]
  },
  {
   "cell_type": "markdown",
   "metadata": {},
   "source": [
    "## PART II\n",
    "\n",
    "### Specific Aim\n",
    "My capstone project involves examining public proceedings and debates of the U.S. House of Representatives and Senate during the Obama presidency through natural language processing. I am interested in comparing legislators' remarks during Obama's first term and second term and determining (1) whether there is a difference in the kind/sentiment of words spoken and (2) if it is possible to predict the passage of proposed legislation based on such a difference.\n",
    "\n",
    "Questions to Consider\n",
    "1. Do Senators speak differently than Representatives?\n",
    "2. Do Republicans speak differently than Democrats?\n",
    "3. Does a party's minority/majority status affect the language its party members use?\n",
    "4. Does the quantity/type/sentiment of words used depend on seniority? gender? something else?\n",
    "\n",
    "### Prosposed Methods and Models\n",
    "After building my datasets of extracted words and legislative information, I plan to employ unsupervised and supervised learning techniques such as clustering to identify common topics/themes among spoken remarks and some kind of tree-based classifier to predict a bill's passage/failure. My anticipation is that the clusters will represent both generalized policy areas (defense, fiscal, economic, and social) and more specific, contentious policy concerns (federal budget, national debt, defunding Planned Parenthood, the Affordable Care Act). In spite of my fondness for hierarchical aglomerative clustering, I will likely end up using k-means and perhaps give DBSCAN a shot as well. The latter is iffy because it requires so much tuning and may take up too much time. \n",
    "\n",
    "This immersive has convinced me of the power of tree-based methods, especially when those methods are random forest, extra trees, and boosting. My plan is to fit a baseline model of each to the data and subsequently optimize it using grid search to find the best parameters. The performance metrics upon which I plan to focus are the accuracy score, and cross validation score, precision and recall. \n",
    "\n",
    "### Risks and Assumptions\n",
    "One risk of this analysis is that the features might be all wrong: it might turn out that language has no bearing on a bill becoming a law or its significance might pale in comparison to that of other factors such as yay/nay votes as a consequence of partisanship and logrolling (trading votes). Although I want to restrict my analysis to debates about and remarks regarding specific pieces of legislation, it is possible that too few or too many observations were dropped, leaving me with a bad dataset. A related concern is rows with the title of ADDITIONAL STATEMENTS. Some legislators use these to recognize specific individuals, whereas others take this time to comment on a bill. It is going to take a lot of effort to separate the wheat from the chaff, so I'm going to keep all those observations and hope that substantive remarks will drown out the irrelevant ones. Another risk is the inclusion of filibuster speeches. While Ted Cruz reading Green Eggs and Ham on the Senate floor for his daughter might make for good television and a waste of everyone else's time, it adds noise to my model. \n",
    "\n",
    "### Data Cleaning/Munging\n",
    "Unfortunately, I'm still stuck in this phase of my capstone. It took me a while to identify the best method for webscraping the Congressional Record (you would think that government would make this data easily accessible using an API), and the compilation of my dataset has yet to be completed. Years 2012 - 2017 have been scraped, converted to a DataFrame, then a CSV, and back to a DataFrame. Each of the columns has been changed into its proper type, preliminary cleaning has been performed on the text column, and I am currently in the process of dropping irrrelevant observations, which are composed of procedural/ceremonial actions such as reciting the Pledge of Allegiance, appointing the President Pro Tempore, and beginning each session with a prayer (seriously). Once the rows have been winnowed, features describing the word count and sentiment of each word will be generated. In terms of additional datasets, I plan to use ProPublica's Congress API to extract data on legislation and members of Congress.\n",
    "\n",
    "### Exploratory Data Analysis and Visualizations\n",
    "Forthcoming! "
   ]
  },
  {
   "cell_type": "code",
   "execution_count": 1,
   "metadata": {
    "collapsed": true
   },
   "outputs": [],
   "source": [
    "import numpy as np\n",
    "import pandas as pd\n",
    "\n",
    "import matplotlib.pyplot as plt\n",
    "import seaborn as sns\n",
    "plt.style.use('fivethirtyeight')\n",
    "%matplotlib inline\n",
    "\n",
    "import json\n",
    "\n",
    "import re"
   ]
  },
  {
   "cell_type": "code",
   "execution_count": 2,
   "metadata": {
    "collapsed": false
   },
   "outputs": [],
   "source": [
    "# years = ['12', '13', '14', '15', '16', '17']\n",
    "# file_path_template = ['concord/congress_gov/logs_and_output/output_', '.json']\n",
    "\n",
    "# for year in years:\n",
    "#     json_file = file_path_template[0] + year + file_path_template[1]\n",
    "#     with open(json_file, 'r') as output:\n",
    "#         json_data = [json.loads(line) for line in output]"
   ]
  },
  {
   "cell_type": "code",
   "execution_count": 3,
   "metadata": {
    "collapsed": true
   },
   "outputs": [],
   "source": [
    "# json_data"
   ]
  },
  {
   "cell_type": "code",
   "execution_count": 4,
   "metadata": {
    "collapsed": false
   },
   "outputs": [],
   "source": [
    "# big_df = pd.DataFrame(columns = ['congress', 'date', 'end_page', 'issue', 'session', 'start_page', 'text', 'title', 'url', 'volume'])\n",
    "\n",
    "# for i in json_data:\n",
    "#     dict_x = pd.DataFrame(i, index = range(len(i)))\n",
    "#     big_df = pd.concat([big_df, dict_x], axis = 0)"
   ]
  },
  {
   "cell_type": "code",
   "execution_count": 5,
   "metadata": {
    "collapsed": false
   },
   "outputs": [],
   "source": [
    "# cr_12_17 = big_df.reset_index(drop = True)"
   ]
  },
  {
   "cell_type": "code",
   "execution_count": 6,
   "metadata": {
    "collapsed": true
   },
   "outputs": [],
   "source": [
    "# DO NOT RELOAD!\n",
    "# cr_12_17.to_csv('XX/Users/sidraahmad/DSI-NYC-4/capstone/datasets/cr_12_17_notclean_utf8.csv', index = False, encoding = 'utf-8')"
   ]
  },
  {
   "cell_type": "code",
   "execution_count": 7,
   "metadata": {
    "collapsed": false
   },
   "outputs": [
    {
     "data": {
      "text/html": [
       "<div>\n",
       "<table border=\"1\" class=\"dataframe\">\n",
       "  <thead>\n",
       "    <tr style=\"text-align: right;\">\n",
       "      <th></th>\n",
       "      <th>congress</th>\n",
       "      <th>date</th>\n",
       "      <th>end_page</th>\n",
       "      <th>issue</th>\n",
       "      <th>session</th>\n",
       "      <th>start_page</th>\n",
       "      <th>text</th>\n",
       "      <th>title</th>\n",
       "      <th>url</th>\n",
       "      <th>volume</th>\n",
       "    </tr>\n",
       "  </thead>\n",
       "  <tbody>\n",
       "    <tr>\n",
       "      <th>0</th>\n",
       "      <td>112</td>\n",
       "      <td>01/03/2012</td>\n",
       "      <td>H1</td>\n",
       "      <td>1</td>\n",
       "      <td>2</td>\n",
       "      <td>H1</td>\n",
       "      <td>\\n        \\n\\n[Page H1]\\nFrom the Congressiona...</td>\n",
       "      <td>ADJOURNMENT</td>\n",
       "      <td>https://www.congress.gov/congressional-record/...</td>\n",
       "      <td>158</td>\n",
       "    </tr>\n",
       "    <tr>\n",
       "      <th>1</th>\n",
       "      <td>112</td>\n",
       "      <td>01/03/2012</td>\n",
       "      <td>H1</td>\n",
       "      <td>1</td>\n",
       "      <td>2</td>\n",
       "      <td>H1</td>\n",
       "      <td>\\n        \\n\\n[Page H1]\\nFrom the Congressiona...</td>\n",
       "      <td>ADJOURNMENT</td>\n",
       "      <td>https://www.congress.gov/congressional-record/...</td>\n",
       "      <td>158</td>\n",
       "    </tr>\n",
       "    <tr>\n",
       "      <th>2</th>\n",
       "      <td>112</td>\n",
       "      <td>01/03/2012</td>\n",
       "      <td>H1</td>\n",
       "      <td>1</td>\n",
       "      <td>2</td>\n",
       "      <td>H1</td>\n",
       "      <td>\\n        \\n\\n[Page H1]\\nFrom the Congressiona...</td>\n",
       "      <td>ADJOURNMENT</td>\n",
       "      <td>https://www.congress.gov/congressional-record/...</td>\n",
       "      <td>158</td>\n",
       "    </tr>\n",
       "    <tr>\n",
       "      <th>3</th>\n",
       "      <td>112</td>\n",
       "      <td>01/03/2012</td>\n",
       "      <td>H1</td>\n",
       "      <td>1</td>\n",
       "      <td>2</td>\n",
       "      <td>H1</td>\n",
       "      <td>\\n        \\n\\n[Page H1]\\nFrom the Congressiona...</td>\n",
       "      <td>ADJOURNMENT</td>\n",
       "      <td>https://www.congress.gov/congressional-record/...</td>\n",
       "      <td>158</td>\n",
       "    </tr>\n",
       "    <tr>\n",
       "      <th>4</th>\n",
       "      <td>112</td>\n",
       "      <td>01/03/2012</td>\n",
       "      <td>H1</td>\n",
       "      <td>1</td>\n",
       "      <td>2</td>\n",
       "      <td>H1</td>\n",
       "      <td>\\n        \\n\\n[Page H1]\\nFrom the Congressiona...</td>\n",
       "      <td>ADJOURNMENT</td>\n",
       "      <td>https://www.congress.gov/congressional-record/...</td>\n",
       "      <td>158</td>\n",
       "    </tr>\n",
       "  </tbody>\n",
       "</table>\n",
       "</div>"
      ],
      "text/plain": [
       "   congress        date end_page  issue  session start_page  \\\n",
       "0       112  01/03/2012       H1      1        2         H1   \n",
       "1       112  01/03/2012       H1      1        2         H1   \n",
       "2       112  01/03/2012       H1      1        2         H1   \n",
       "3       112  01/03/2012       H1      1        2         H1   \n",
       "4       112  01/03/2012       H1      1        2         H1   \n",
       "\n",
       "                                                text        title  \\\n",
       "0  \\n        \\n\\n[Page H1]\\nFrom the Congressiona...  ADJOURNMENT   \n",
       "1  \\n        \\n\\n[Page H1]\\nFrom the Congressiona...  ADJOURNMENT   \n",
       "2  \\n        \\n\\n[Page H1]\\nFrom the Congressiona...  ADJOURNMENT   \n",
       "3  \\n        \\n\\n[Page H1]\\nFrom the Congressiona...  ADJOURNMENT   \n",
       "4  \\n        \\n\\n[Page H1]\\nFrom the Congressiona...  ADJOURNMENT   \n",
       "\n",
       "                                                 url  volume  \n",
       "0  https://www.congress.gov/congressional-record/...     158  \n",
       "1  https://www.congress.gov/congressional-record/...     158  \n",
       "2  https://www.congress.gov/congressional-record/...     158  \n",
       "3  https://www.congress.gov/congressional-record/...     158  \n",
       "4  https://www.congress.gov/congressional-record/...     158  "
      ]
     },
     "execution_count": 7,
     "metadata": {},
     "output_type": "execute_result"
    }
   ],
   "source": [
    "cr_12_17 = pd.read_csv('/Users/sidraahmad/DSI-NYC-4/capstone/datasets/cr_12_17_notclean_utf8.csv')\n",
    "cr_12_17.head()"
   ]
  },
  {
   "cell_type": "code",
   "execution_count": 8,
   "metadata": {
    "collapsed": false
   },
   "outputs": [
    {
     "name": "stdout",
     "output_type": "stream",
     "text": [
      "<class 'pandas.core.frame.DataFrame'>\n",
      "RangeIndex: 156900 entries, 0 to 156899\n",
      "Data columns (total 10 columns):\n",
      "congress      156900 non-null int64\n",
      "date          156900 non-null object\n",
      "end_page      156900 non-null object\n",
      "issue         156900 non-null int64\n",
      "session       156900 non-null int64\n",
      "start_page    156900 non-null object\n",
      "text          156900 non-null object\n",
      "title         156900 non-null object\n",
      "url           156900 non-null object\n",
      "volume        156900 non-null int64\n",
      "dtypes: int64(4), object(6)\n",
      "memory usage: 12.0+ MB\n"
     ]
    }
   ],
   "source": [
    "cr_12_17.info()"
   ]
  },
  {
   "cell_type": "code",
   "execution_count": 9,
   "metadata": {
    "collapsed": true
   },
   "outputs": [],
   "source": [
    "cr_12_17['date'] = cr_12_17['date'].apply(lambda x: pd.to_datetime(x))"
   ]
  },
  {
   "cell_type": "code",
   "execution_count": 10,
   "metadata": {
    "collapsed": false
   },
   "outputs": [
    {
     "data": {
      "text/plain": [
       "\"\\n        \\n\\n[Page H1]\\nFrom the Congressional Record Online through the Government Publishing Office [www.gpo.gov]\\n\\n\\n\\n\\n                              ADJOURNMENT\\n\\n  The SPEAKER pro tempore. Pursuant to section 4(c) of House Resolution \\n493, the House stands adjourned until 10 a.m. on Friday, January 6, \\n2012.\\n  Accordingly (at 12 o'clock and 2 minutes p.m.), the House adjourned \\nuntil Friday, January 6, 2012, at 10 a.m.\\n\\n\\n\\n    \""
      ]
     },
     "execution_count": 10,
     "metadata": {},
     "output_type": "execute_result"
    }
   ],
   "source": [
    "cr_12_17['text'][0]"
   ]
  },
  {
   "cell_type": "code",
   "execution_count": 11,
   "metadata": {
    "collapsed": false
   },
   "outputs": [],
   "source": [
    "cr_12_17['text'] = [x.replace('\\n', '') for x in cr_12_17['text']]\n",
    "cr_12_17['text'] = [x.strip() for x in cr_12_17['text']]\n",
    "cr_12_17['text'] = cr_12_17['text'].apply(lambda x: re.sub(r'\\[(.*)\\]\\s*\\W', '', x))"
   ]
  },
  {
   "cell_type": "code",
   "execution_count": 15,
   "metadata": {
    "collapsed": true
   },
   "outputs": [],
   "source": [
    "drop_vals = ['PLEDGE OF ALLEGIANCE', 'RECESS', 'ANNOUNCEMENT BY THE SPEAKER PRO TEMPORE', 'THE JOURNAL', \n",
    "                          'MORNING BUSINESS', 'AFTER RECESS', 'ADJOURNMENT', 'PRAYER', \n",
    "                          'APPOINTMENT OF ACTING PRESIDENT PRO TEMPORE', 'EXECUTIVE COMMUNICATIONS, ETC.', \n",
    "                          'ADDITIONAL SPONSORS', 'PUBLIC BILLS AND RESOLUTIONS', 'Constitutional Authority Statement', \n",
    "                          'prayer', 'ADDITIONAL COSPONSORS', 'RECOGNITION OF THE MAJORITY LEADER', \n",
    "                          'AMENDMENTS SUBMITTED AND PROPOSED', 'TEXT OF AMENDMENTS', 'SUBMITTED RESOLUTIONS', \n",
    "                          'EXECUTIVE AND OTHER COMMUNICATIONS', 'AUTHORITY FOR COMMITTEES TO MEET', \n",
    "                          'LEAVE OF ABSENCE']\n",
    "\n",
    "for i in drop_vals:\n",
    "    cr_12_17 = cr_12_17[cr_12_17.title != i]"
   ]
  },
  {
   "cell_type": "code",
   "execution_count": null,
   "metadata": {
    "collapsed": true
   },
   "outputs": [],
   "source": [
    "drop_more_vals = ['', '']\n",
    "\n",
    "for i in drop_more_vals:\n",
    "    cr_12_17 = cr_12_17[cr_12_17.title != i]"
   ]
  },
  {
   "cell_type": "code",
   "execution_count": 16,
   "metadata": {
    "collapsed": false
   },
   "outputs": [
    {
     "data": {
      "text/plain": [
       "Senate                                                                                                                          1710\n",
       "House of Representatives                                                                                                        1470\n",
       "INTRODUCTION OF BILLS AND JOINT RESOLUTIONS                                                                                     1180\n",
       "ADDITIONAL STATEMENTS                                                                                                           1150\n",
       "PROGRAM                                                                                                                         1130\n",
       "REPORTS OF COMMITTEES ON PUBLIC BILLS AND RESOLUTIONS                                                                           1060\n",
       "SUBMISSION OF CONCURRENT AND SENATE RESOLUTIONS                                                                                  980\n",
       "STATEMENTS ON INTRODUCED BILLS AND JOINT RESOLUTIONS                                                                             910\n",
       "COMMUNICATION FROM THE CLERK OF THE HOUSE                                                                                        730\n",
       "RESERVATION OF LEADER TIME                                                                                                       720\n",
       "SCHEDULE                                                                                                                         680\n",
       "MORNING-HOUR DEBATE                                                                                                              670\n",
       "PRIVILEGES OF THE FLOOR                                                                                                          670\n",
       "REPORTS OF COMMITTEES                                                                                                            660\n",
       "DESIGNATION OF SPEAKER PRO TEMPORE                                                                                               650\n",
       "MESSAGES FROM THE PRESIDENT                                                                                                      620\n",
       "EXECUTIVE SESSION                                                                                                                620\n",
       "DESIGNATION OF THE SPEAKER PRO TEMPORE                                                                                           620\n",
       "NOMINATIONS                                                                                                                      600\n",
       "LEGISLATIVE SESSION                                                                                                              590\n",
       "EXECUTIVE MESSAGES REFERRED                                                                                                      580\n",
       "MEASURES REFERRED                                                                                                                580\n",
       "MEASURES PLACED ON THE CALENDAR                                                                                                  560\n",
       "MESSAGE FROM THE HOUSE                                                                                                           490\n",
       "MEASURES READ THE FIRST TIME                                                                                                     450\n",
       "ADJOURNMENT UNTIL 9:30 A.M. TOMORROW                                                                                             440\n",
       "MESSAGES FROM THE HOUSE                                                                                                          400\n",
       "ANNOUNCEMENT BY THE SPEAKER                                                                                                      400\n",
       "THE FISCAL CLIFF                                                                                                                 360\n",
       "RECOGNITION OF THE MINORITY LEADER                                                                                               360\n",
       "                                                                                                                                ... \n",
       "JOBS ACT STRATEGY                                                                                                                 10\n",
       "REMEMBERING JONATHAN MICKLE                                                                                                       10\n",
       "Constitutional Authority Statement for H.R. 5635                                                                                  10\n",
       "Constitutional Authority Statement for H.R. 5634                                                                                  10\n",
       "Constitutional Authority Statement for H.R. 5637                                                                                  10\n",
       "Constitutional Authority Statement for H.R. 5636                                                                                  10\n",
       "Constitutional Authority Statement for H.R. 6102                                                                                  10\n",
       "FEATHER CREEK FLOODING                                                                                                            10\n",
       "Constitutional Authority Statement for H.R. 6100                                                                                  10\n",
       "IT'S TIME TO ACCELERATE OUR WITHDRAWAL FROM AFGHANISTAN                                                                           10\n",
       "Constitutional Authority Statement for H.R. 6107                                                                                  10\n",
       "Constitutional Authority Statement for H.R. 6104                                                                                  10\n",
       "Constitutional Authority Statement for H.R. 6105                                                                                  10\n",
       "PUBLIC POLICY ISSUES                                                                                                              10\n",
       "Constitutional Authority Statement for H.R. 6208                                                                                  10\n",
       "Constitutional Authority Statement for H.R. 6109                                                                                  10\n",
       "RECOGNIZING DONALD SCHNEIDER                                                                                                      10\n",
       "UNANIMOUS CONSENT AGREEMENT--FISA AMENDMENTS                                                                                      10\n",
       "AUTHORIZING ADDITIONAL SANCTIONS WITH RESPECT TO IRAN--MESSAGE FROM THE PRESIDENT OF THE UNITED STATES (H. DOC. NO. 112-128)      10\n",
       "EQUALITY                                                                                                                          10\n",
       "RECOGNIZING THE SALT LAKE COUNCIL OF WOMEN                                                                                        10\n",
       "PASS OUR JOBS BILL                                                                                                                10\n",
       "ELECTION YEAR LEGISLATION                                                                                                         10\n",
       "EXTEND UNEMPLOYMENT BENEFITS                                                                                                      10\n",
       "PAYING TRIBUTE TO THE HONORABLE DANIEL K. INOUYE                                                                                  10\n",
       "UNFINISHED BUSINESS IN THE 112TH CONGRESS                                                                                         10\n",
       "A GAME OF CAT AND MOUSE WITH THE ECONOMY                                                                                          10\n",
       "Constitutional Authority Statement for H.R. 6613                                                                                  10\n",
       "REMEMBERING THE ALAMO                                                                                                             10\n",
       "SARA ELIZABETH LOW 9/11 TRIBUTE                                                                                                   10\n",
       "Name: title, dtype: int64"
      ]
     },
     "execution_count": 16,
     "metadata": {},
     "output_type": "execute_result"
    }
   ],
   "source": [
    "cr_12_17['title'].value_counts()"
   ]
  },
  {
   "cell_type": "code",
   "execution_count": 17,
   "metadata": {
    "collapsed": false
   },
   "outputs": [
    {
     "name": "stdout",
     "output_type": "stream",
     "text": [
      "<class 'pandas.core.frame.DataFrame'>\n",
      "Int64Index: 126470 entries, 10 to 156899\n",
      "Data columns (total 10 columns):\n",
      "congress      126470 non-null int64\n",
      "date          126470 non-null datetime64[ns]\n",
      "end_page      126470 non-null object\n",
      "issue         126470 non-null int64\n",
      "session       126470 non-null int64\n",
      "start_page    126470 non-null object\n",
      "text          126470 non-null object\n",
      "title         126470 non-null object\n",
      "url           126470 non-null object\n",
      "volume        126470 non-null int64\n",
      "dtypes: datetime64[ns](1), int64(4), object(5)\n",
      "memory usage: 10.6+ MB\n"
     ]
    }
   ],
   "source": [
    "cr_12_17.info()"
   ]
  },
  {
   "cell_type": "code",
   "execution_count": null,
   "metadata": {
    "collapsed": true
   },
   "outputs": [],
   "source": [
    "Questionable Columns = ['INTRODUCTION OF BILLS AND JOINT RESOLUTIONS', 'ADDITIONAL STATEMENTS', \n",
    "                        'REPORTS OF COMMITTEES ON PUBLIC BILLS AND RESOLUTIONS', 'AMENDMENTS SUBMITTED AND PROPOSED', \n",
    "                        'SUBMISSION OF CONCURRENT AND SENATE RESOLUTIONS', '']"
   ]
  },
  {
   "cell_type": "code",
   "execution_count": null,
   "metadata": {
    "collapsed": true
   },
   "outputs": [],
   "source": []
  },
  {
   "cell_type": "code",
   "execution_count": null,
   "metadata": {
    "collapsed": true
   },
   "outputs": [],
   "source": []
  },
  {
   "cell_type": "code",
   "execution_count": 11,
   "metadata": {
    "collapsed": false
   },
   "outputs": [
    {
     "data": {
      "text/plain": [
       "PLEDGE OF ALLEGIANCE                                                                                                            2710\n",
       "RECESS                                                                                                                          1890\n",
       "Senate                                                                                                                          1710\n",
       "ANNOUNCEMENT BY THE SPEAKER PRO TEMPORE                                                                                         1710\n",
       "THE JOURNAL                                                                                                                     1690\n",
       "MORNING BUSINESS                                                                                                                1610\n",
       "AFTER RECESS                                                                                                                    1540\n",
       "ADJOURNMENT                                                                                                                     1520\n",
       "PRAYER                                                                                                                          1500\n",
       "APPOINTMENT OF ACTING PRESIDENT PRO TEMPORE                                                                                     1480\n",
       "House of Representatives                                                                                                        1470\n",
       "EXECUTIVE COMMUNICATIONS, ETC.                                                                                                  1440\n",
       "ADDITIONAL SPONSORS                                                                                                             1440\n",
       "PUBLIC BILLS AND RESOLUTIONS                                                                                                    1430\n",
       "Constitutional Authority Statement                                                                                              1430\n",
       "prayer                                                                                                                          1190\n",
       "INTRODUCTION OF BILLS AND JOINT RESOLUTIONS                                                                                     1180\n",
       "ADDITIONAL COSPONSORS                                                                                                           1170\n",
       "ADDITIONAL STATEMENTS                                                                                                           1150\n",
       "PROGRAM                                                                                                                         1130\n",
       "RECOGNITION OF THE MAJORITY LEADER                                                                                              1130\n",
       "REPORTS OF COMMITTEES ON PUBLIC BILLS AND RESOLUTIONS                                                                           1060\n",
       "AMENDMENTS SUBMITTED AND PROPOSED                                                                                               1020\n",
       "TEXT OF AMENDMENTS                                                                                                              1020\n",
       "SUBMISSION OF CONCURRENT AND SENATE RESOLUTIONS                                                                                  980\n",
       "SUBMITTED RESOLUTIONS                                                                                                            980\n",
       "STATEMENTS ON INTRODUCED BILLS AND JOINT RESOLUTIONS                                                                             910\n",
       "EXECUTIVE AND OTHER COMMUNICATIONS                                                                                               900\n",
       "AUTHORITY FOR COMMITTEES TO MEET                                                                                                 860\n",
       "LEAVE OF ABSENCE                                                                                                                 770\n",
       "                                                                                                                                ... \n",
       "A GAME OF CAT AND MOUSE WITH THE ECONOMY                                                                                          10\n",
       "UNFINISHED BUSINESS IN THE 112TH CONGRESS                                                                                         10\n",
       "Constitutional Authority Statement for H.R. 5631                                                                                  10\n",
       "Constitutional Authority Statement for H.R. 5630                                                                                  10\n",
       "Constitutional Authority Statement for H.R. 5633                                                                                  10\n",
       "Constitutional Authority Statement for H.R. 5632                                                                                  10\n",
       "Constitutional Authority Statement for H.R. 5635                                                                                  10\n",
       "Constitutional Authority Statement for H.R. 5634                                                                                  10\n",
       "Constitutional Authority Statement for H.R. 5637                                                                                  10\n",
       "Constitutional Authority Statement for H.R. 5636                                                                                  10\n",
       "Constitutional Authority Statement for H.R. 6102                                                                                  10\n",
       "FEATHER CREEK FLOODING                                                                                                            10\n",
       "Constitutional Authority Statement for H.R. 6100                                                                                  10\n",
       "IT'S TIME TO ACCELERATE OUR WITHDRAWAL FROM AFGHANISTAN                                                                           10\n",
       "Constitutional Authority Statement for H.R. 6107                                                                                  10\n",
       "Constitutional Authority Statement for H.R. 6104                                                                                  10\n",
       "Constitutional Authority Statement for H.R. 6105                                                                                  10\n",
       "PUBLIC POLICY ISSUES                                                                                                              10\n",
       "Constitutional Authority Statement for H.R. 6208                                                                                  10\n",
       "Constitutional Authority Statement for H.R. 6109                                                                                  10\n",
       "RECOGNIZING DONALD SCHNEIDER                                                                                                      10\n",
       "UNANIMOUS CONSENT AGREEMENT--FISA AMENDMENTS                                                                                      10\n",
       "AUTHORIZING ADDITIONAL SANCTIONS WITH RESPECT TO IRAN--MESSAGE FROM THE PRESIDENT OF THE UNITED STATES (H. DOC. NO. 112-128)      10\n",
       "EQUALITY                                                                                                                          10\n",
       "RECOGNIZING THE SALT LAKE COUNCIL OF WOMEN                                                                                        10\n",
       "PASS OUR JOBS BILL                                                                                                                10\n",
       "ELECTION YEAR LEGISLATION                                                                                                         10\n",
       "EXTEND UNEMPLOYMENT BENEFITS                                                                                                      10\n",
       "PAYING TRIBUTE TO THE HONORABLE DANIEL K. INOUYE                                                                                  10\n",
       "SARA ELIZABETH LOW 9/11 TRIBUTE                                                                                                   10\n",
       "Name: title, dtype: int64"
      ]
     },
     "execution_count": 11,
     "metadata": {},
     "output_type": "execute_result"
    }
   ],
   "source": [
    "cr_12_17['title'].value_counts()"
   ]
  },
  {
   "cell_type": "code",
   "execution_count": 12,
   "metadata": {
    "collapsed": false
   },
   "outputs": [
    {
     "data": {
      "text/plain": [
       "8480"
      ]
     },
     "execution_count": 12,
     "metadata": {},
     "output_type": "execute_result"
    }
   ],
   "source": [
    "cr_12_17['title'].nunique()"
   ]
  },
  {
   "cell_type": "code",
   "execution_count": null,
   "metadata": {
    "collapsed": true
   },
   "outputs": [],
   "source": []
  },
  {
   "cell_type": "code",
   "execution_count": null,
   "metadata": {
    "collapsed": true
   },
   "outputs": [],
   "source": []
  },
  {
   "cell_type": "code",
   "execution_count": null,
   "metadata": {
    "collapsed": true
   },
   "outputs": [],
   "source": []
  },
  {
   "cell_type": "code",
   "execution_count": null,
   "metadata": {
    "collapsed": true
   },
   "outputs": [],
   "source": []
  },
  {
   "cell_type": "code",
   "execution_count": 23,
   "metadata": {
    "collapsed": false
   },
   "outputs": [
    {
     "data": {
      "text/plain": [
       "150178    4124416\n",
       "150173    4124416\n",
       "150177    4124416\n",
       "150171    4124416\n",
       "150172    4124416\n",
       "150170    4124416\n",
       "150174    4124416\n",
       "150175    4124416\n",
       "150176    4124416\n",
       "150179    4124416\n",
       "83592     2048196\n",
       "83597     2048196\n",
       "83596     2048196\n",
       "83598     2048196\n",
       "83591     2048196\n",
       "83590     2048196\n",
       "83593     2048196\n",
       "83594     2048196\n",
       "83595     2048196\n",
       "83599     2048196\n",
       "59853     1860746\n",
       "59852     1860746\n",
       "59851     1860746\n",
       "59850     1860746\n",
       "59856     1860746\n",
       "59854     1860746\n",
       "59855     1860746\n",
       "59857     1860746\n",
       "59858     1860746\n",
       "59859     1860746\n",
       "           ...   \n",
       "76297         229\n",
       "76292         229\n",
       "76294         229\n",
       "76295         229\n",
       "76296         229\n",
       "76291         229\n",
       "76298         229\n",
       "76290         229\n",
       "76293         229\n",
       "76299         229\n",
       "142269        197\n",
       "142262        197\n",
       "142263        197\n",
       "142264        197\n",
       "142265        197\n",
       "142266        197\n",
       "142267        197\n",
       "142268        197\n",
       "142260        197\n",
       "142261        197\n",
       "106525        196\n",
       "106522        196\n",
       "106523        196\n",
       "106520        196\n",
       "106521        196\n",
       "106526        196\n",
       "106527        196\n",
       "106524        196\n",
       "106528        196\n",
       "106529        196\n",
       "Name: txtlen, dtype: int64"
      ]
     },
     "execution_count": 23,
     "metadata": {},
     "output_type": "execute_result"
    }
   ],
   "source": [
    "cr_12_17['txtlen'] = cr_12_17['text'].apply(len)\n",
    "cr_12_17 = cr_12_17.sort_values(by = 'txtlen', ascending = False)\n",
    "\n",
    "cr_12_17['txtlen']"
   ]
  },
  {
   "cell_type": "code",
   "execution_count": null,
   "metadata": {
    "collapsed": true
   },
   "outputs": [],
   "source": []
  },
  {
   "cell_type": "code",
   "execution_count": null,
   "metadata": {
    "collapsed": true
   },
   "outputs": [],
   "source": []
  },
  {
   "cell_type": "code",
   "execution_count": null,
   "metadata": {
    "collapsed": true
   },
   "outputs": [],
   "source": []
  },
  {
   "cell_type": "code",
   "execution_count": null,
   "metadata": {
    "collapsed": true
   },
   "outputs": [],
   "source": []
  }
 ],
 "metadata": {
  "anaconda-cloud": {},
  "kernelspec": {
   "display_name": "Python [conda root]",
   "language": "python",
   "name": "conda-root-py"
  },
  "language_info": {
   "codemirror_mode": {
    "name": "ipython",
    "version": 2
   },
   "file_extension": ".py",
   "mimetype": "text/x-python",
   "name": "python",
   "nbconvert_exporter": "python",
   "pygments_lexer": "ipython2",
   "version": "2.7.12"
  }
 },
 "nbformat": 4,
 "nbformat_minor": 1
}
